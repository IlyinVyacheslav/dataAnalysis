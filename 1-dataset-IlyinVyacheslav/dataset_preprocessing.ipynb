{
 "cells": [
  {
   "cell_type": "markdown",
   "source": [
    "### Imports"
   ],
   "metadata": {
    "collapsed": false
   },
   "id": "7475b908c2595744"
  },
  {
   "cell_type": "code",
   "outputs": [],
   "source": [
    "import pandas as pd\n",
    "from sklearn.preprocessing import MinMaxScaler"
   ],
   "metadata": {
    "collapsed": false,
    "ExecuteTime": {
     "end_time": "2024-10-14T08:41:10.620217100Z",
     "start_time": "2024-10-14T08:41:10.596233300Z"
    }
   },
   "id": "16ff921e49e99225",
   "execution_count": 13
  },
  {
   "cell_type": "code",
   "outputs": [],
   "source": [
    "phones = pd.read_csv('datasets/clean_full_mobiles_dataset.tsv', sep='\\t')\n"
   ],
   "metadata": {
    "collapsed": false,
    "ExecuteTime": {
     "end_time": "2024-10-14T08:41:11.099440100Z",
     "start_time": "2024-10-14T08:41:11.072002Z"
    }
   },
   "id": "9d3b3a77f10f2f60",
   "execution_count": 14
  },
  {
   "cell_type": "code",
   "outputs": [
    {
     "name": "stdout",
     "output_type": "stream",
     "text": [
      "<class 'pandas.core.frame.DataFrame'>\n",
      "RangeIndex: 495 entries, 0 to 494\n",
      "Data columns (total 19 columns):\n",
      " #   Column              Non-Null Count  Dtype  \n",
      "---  ------              --------------  -----  \n",
      " 0   model               495 non-null    object \n",
      " 1   price(₽)            493 non-null    float64\n",
      " 2   old_price(₽)        316 non-null    float64\n",
      " 3   rating              330 non-null    float64\n",
      " 4   rating_count        330 non-null    float64\n",
      " 5   company             495 non-null    object \n",
      " 6   color               486 non-null    object \n",
      " 7   release_date        457 non-null    object \n",
      " 8   country             431 non-null    object \n",
      " 9   weight(g)           486 non-null    float64\n",
      " 10  diagonal(inches)    495 non-null    float64\n",
      " 11  display             495 non-null    object \n",
      " 12  refresh_rate(Hz)    279 non-null    float64\n",
      " 13  memory(Gb)          495 non-null    int64  \n",
      " 14  ram(Gb)             495 non-null    int64  \n",
      " 15  battery(mAh)        495 non-null    int64  \n",
      " 16  processor           495 non-null    object \n",
      " 17  front_camera(Mpix)  495 non-null    int64  \n",
      " 18  main_camera         495 non-null    object \n",
      "dtypes: float64(7), int64(4), object(8)\n",
      "memory usage: 73.6+ KB\n"
     ]
    }
   ],
   "source": [
    "phones.info()"
   ],
   "metadata": {
    "collapsed": false,
    "ExecuteTime": {
     "end_time": "2024-10-14T08:41:12.383736Z",
     "start_time": "2024-10-14T08:41:12.364785300Z"
    }
   },
   "id": "627209573ab2e7d7",
   "execution_count": 15
  },
  {
   "cell_type": "code",
   "outputs": [
    {
     "data": {
      "text/plain": "                                                  model       price(₽)  \\\ncount                                               495     493.000000   \nunique                                              493            NaN   \ntop     Смартфон Samsung Galaxy A25 6/128GB Голубой EAC            NaN   \nfreq                                                  2            NaN   \nmean                                                NaN   29052.918864   \nstd                                                 NaN   33955.483258   \nmin                                                 NaN    5299.000000   \n25%                                                 NaN   11999.000000   \n50%                                                 NaN   16999.000000   \n75%                                                 NaN   27999.000000   \nmax                                                 NaN  229999.000000   \n\n         old_price(₽)      rating  rating_count company   color release_date  \\\ncount      316.000000  330.000000    330.000000     495     486          457   \nunique            NaN         NaN           NaN      10      16           33   \ntop               NaN         NaN           NaN   TECNO  Черный      2024-01   \nfreq              NaN         NaN           NaN      99     148           63   \nmean     28017.544304    4.789394      7.536364     NaN     NaN          NaN   \nstd      22716.370224    0.501587     11.533230     NaN     NaN          NaN   \nmin       7999.000000    3.000000      1.000000     NaN     NaN          NaN   \n25%      14999.000000    4.900000      2.000000     NaN     NaN          NaN   \n50%      21499.000000    5.000000      3.000000     NaN     NaN          NaN   \n75%      31249.000000    5.000000      9.000000     NaN     NaN          NaN   \nmax     179999.000000    5.000000    102.000000     NaN     NaN          NaN   \n\n       country   weight(g)  diagonal(inches) display  refresh_rate(Hz)  \\\ncount      431  486.000000         495.00000     495        279.000000   \nunique       2         NaN               NaN      21               NaN   \ntop      Китай         NaN               NaN     IPS               NaN   \nfreq       408         NaN               NaN     155               NaN   \nmean       NaN  193.236626           6.67503     NaN        103.698925   \nstd        NaN   13.354777           0.16879     NaN         18.831963   \nmin        NaN  166.000000           6.10000     NaN         60.000000   \n25%        NaN  186.000000           6.60000     NaN         90.000000   \n50%        NaN  192.000000           6.70000     NaN        120.000000   \n75%        NaN  199.000000           6.74000     NaN        120.000000   \nmax        NaN  239.000000           7.92000     NaN        144.000000   \n\n        memory(Gb)     ram(Gb)  battery(mAh)  \\\ncount   495.000000  495.000000    495.000000   \nunique         NaN         NaN           NaN   \ntop            NaN         NaN           NaN   \nfreq           NaN         NaN           NaN   \nmean    209.850505    7.373737   5032.525253   \nstd     126.390476    2.799602    443.826624   \nmin       1.000000    2.000000   3700.000000   \n25%     128.000000    4.000000   5000.000000   \n50%     128.000000    8.000000   5000.000000   \n75%     256.000000    8.000000   5000.000000   \nmax     512.000000   16.000000   7000.000000   \n\n                                         processor  front_camera(Mpix)  \\\ncount                                          495          495.000000   \nunique                                          83                 NaN   \ntop     8-ядерный Qualcomm Snapdragon 680 2.40 ГГц                 NaN   \nfreq                                            35                 NaN   \nmean                                           NaN           20.446465   \nstd                                            NaN           73.022906   \nmin                                            NaN            5.000000   \n25%                                            NaN            8.000000   \n50%                                            NaN           13.000000   \n75%                                            NaN           16.000000   \nmax                                            NaN         1616.000000   \n\n                     main_camera  \ncount                        495  \nunique                        70  \ntop     Два модуля (50 + 2 Mpix)  \nfreq                          39  \nmean                         NaN  \nstd                          NaN  \nmin                          NaN  \n25%                          NaN  \n50%                          NaN  \n75%                          NaN  \nmax                          NaN  ",
      "text/html": "<div>\n<style scoped>\n    .dataframe tbody tr th:only-of-type {\n        vertical-align: middle;\n    }\n\n    .dataframe tbody tr th {\n        vertical-align: top;\n    }\n\n    .dataframe thead th {\n        text-align: right;\n    }\n</style>\n<table border=\"1\" class=\"dataframe\">\n  <thead>\n    <tr style=\"text-align: right;\">\n      <th></th>\n      <th>model</th>\n      <th>price(₽)</th>\n      <th>old_price(₽)</th>\n      <th>rating</th>\n      <th>rating_count</th>\n      <th>company</th>\n      <th>color</th>\n      <th>release_date</th>\n      <th>country</th>\n      <th>weight(g)</th>\n      <th>diagonal(inches)</th>\n      <th>display</th>\n      <th>refresh_rate(Hz)</th>\n      <th>memory(Gb)</th>\n      <th>ram(Gb)</th>\n      <th>battery(mAh)</th>\n      <th>processor</th>\n      <th>front_camera(Mpix)</th>\n      <th>main_camera</th>\n    </tr>\n  </thead>\n  <tbody>\n    <tr>\n      <th>count</th>\n      <td>495</td>\n      <td>493.000000</td>\n      <td>316.000000</td>\n      <td>330.000000</td>\n      <td>330.000000</td>\n      <td>495</td>\n      <td>486</td>\n      <td>457</td>\n      <td>431</td>\n      <td>486.000000</td>\n      <td>495.00000</td>\n      <td>495</td>\n      <td>279.000000</td>\n      <td>495.000000</td>\n      <td>495.000000</td>\n      <td>495.000000</td>\n      <td>495</td>\n      <td>495.000000</td>\n      <td>495</td>\n    </tr>\n    <tr>\n      <th>unique</th>\n      <td>493</td>\n      <td>NaN</td>\n      <td>NaN</td>\n      <td>NaN</td>\n      <td>NaN</td>\n      <td>10</td>\n      <td>16</td>\n      <td>33</td>\n      <td>2</td>\n      <td>NaN</td>\n      <td>NaN</td>\n      <td>21</td>\n      <td>NaN</td>\n      <td>NaN</td>\n      <td>NaN</td>\n      <td>NaN</td>\n      <td>83</td>\n      <td>NaN</td>\n      <td>70</td>\n    </tr>\n    <tr>\n      <th>top</th>\n      <td>Смартфон Samsung Galaxy A25 6/128GB Голубой EAC</td>\n      <td>NaN</td>\n      <td>NaN</td>\n      <td>NaN</td>\n      <td>NaN</td>\n      <td>TECNO</td>\n      <td>Черный</td>\n      <td>2024-01</td>\n      <td>Китай</td>\n      <td>NaN</td>\n      <td>NaN</td>\n      <td>IPS</td>\n      <td>NaN</td>\n      <td>NaN</td>\n      <td>NaN</td>\n      <td>NaN</td>\n      <td>8-ядерный Qualcomm Snapdragon 680 2.40 ГГц</td>\n      <td>NaN</td>\n      <td>Два модуля (50 + 2 Mpix)</td>\n    </tr>\n    <tr>\n      <th>freq</th>\n      <td>2</td>\n      <td>NaN</td>\n      <td>NaN</td>\n      <td>NaN</td>\n      <td>NaN</td>\n      <td>99</td>\n      <td>148</td>\n      <td>63</td>\n      <td>408</td>\n      <td>NaN</td>\n      <td>NaN</td>\n      <td>155</td>\n      <td>NaN</td>\n      <td>NaN</td>\n      <td>NaN</td>\n      <td>NaN</td>\n      <td>35</td>\n      <td>NaN</td>\n      <td>39</td>\n    </tr>\n    <tr>\n      <th>mean</th>\n      <td>NaN</td>\n      <td>29052.918864</td>\n      <td>28017.544304</td>\n      <td>4.789394</td>\n      <td>7.536364</td>\n      <td>NaN</td>\n      <td>NaN</td>\n      <td>NaN</td>\n      <td>NaN</td>\n      <td>193.236626</td>\n      <td>6.67503</td>\n      <td>NaN</td>\n      <td>103.698925</td>\n      <td>209.850505</td>\n      <td>7.373737</td>\n      <td>5032.525253</td>\n      <td>NaN</td>\n      <td>20.446465</td>\n      <td>NaN</td>\n    </tr>\n    <tr>\n      <th>std</th>\n      <td>NaN</td>\n      <td>33955.483258</td>\n      <td>22716.370224</td>\n      <td>0.501587</td>\n      <td>11.533230</td>\n      <td>NaN</td>\n      <td>NaN</td>\n      <td>NaN</td>\n      <td>NaN</td>\n      <td>13.354777</td>\n      <td>0.16879</td>\n      <td>NaN</td>\n      <td>18.831963</td>\n      <td>126.390476</td>\n      <td>2.799602</td>\n      <td>443.826624</td>\n      <td>NaN</td>\n      <td>73.022906</td>\n      <td>NaN</td>\n    </tr>\n    <tr>\n      <th>min</th>\n      <td>NaN</td>\n      <td>5299.000000</td>\n      <td>7999.000000</td>\n      <td>3.000000</td>\n      <td>1.000000</td>\n      <td>NaN</td>\n      <td>NaN</td>\n      <td>NaN</td>\n      <td>NaN</td>\n      <td>166.000000</td>\n      <td>6.10000</td>\n      <td>NaN</td>\n      <td>60.000000</td>\n      <td>1.000000</td>\n      <td>2.000000</td>\n      <td>3700.000000</td>\n      <td>NaN</td>\n      <td>5.000000</td>\n      <td>NaN</td>\n    </tr>\n    <tr>\n      <th>25%</th>\n      <td>NaN</td>\n      <td>11999.000000</td>\n      <td>14999.000000</td>\n      <td>4.900000</td>\n      <td>2.000000</td>\n      <td>NaN</td>\n      <td>NaN</td>\n      <td>NaN</td>\n      <td>NaN</td>\n      <td>186.000000</td>\n      <td>6.60000</td>\n      <td>NaN</td>\n      <td>90.000000</td>\n      <td>128.000000</td>\n      <td>4.000000</td>\n      <td>5000.000000</td>\n      <td>NaN</td>\n      <td>8.000000</td>\n      <td>NaN</td>\n    </tr>\n    <tr>\n      <th>50%</th>\n      <td>NaN</td>\n      <td>16999.000000</td>\n      <td>21499.000000</td>\n      <td>5.000000</td>\n      <td>3.000000</td>\n      <td>NaN</td>\n      <td>NaN</td>\n      <td>NaN</td>\n      <td>NaN</td>\n      <td>192.000000</td>\n      <td>6.70000</td>\n      <td>NaN</td>\n      <td>120.000000</td>\n      <td>128.000000</td>\n      <td>8.000000</td>\n      <td>5000.000000</td>\n      <td>NaN</td>\n      <td>13.000000</td>\n      <td>NaN</td>\n    </tr>\n    <tr>\n      <th>75%</th>\n      <td>NaN</td>\n      <td>27999.000000</td>\n      <td>31249.000000</td>\n      <td>5.000000</td>\n      <td>9.000000</td>\n      <td>NaN</td>\n      <td>NaN</td>\n      <td>NaN</td>\n      <td>NaN</td>\n      <td>199.000000</td>\n      <td>6.74000</td>\n      <td>NaN</td>\n      <td>120.000000</td>\n      <td>256.000000</td>\n      <td>8.000000</td>\n      <td>5000.000000</td>\n      <td>NaN</td>\n      <td>16.000000</td>\n      <td>NaN</td>\n    </tr>\n    <tr>\n      <th>max</th>\n      <td>NaN</td>\n      <td>229999.000000</td>\n      <td>179999.000000</td>\n      <td>5.000000</td>\n      <td>102.000000</td>\n      <td>NaN</td>\n      <td>NaN</td>\n      <td>NaN</td>\n      <td>NaN</td>\n      <td>239.000000</td>\n      <td>7.92000</td>\n      <td>NaN</td>\n      <td>144.000000</td>\n      <td>512.000000</td>\n      <td>16.000000</td>\n      <td>7000.000000</td>\n      <td>NaN</td>\n      <td>1616.000000</td>\n      <td>NaN</td>\n    </tr>\n  </tbody>\n</table>\n</div>"
     },
     "execution_count": 16,
     "metadata": {},
     "output_type": "execute_result"
    }
   ],
   "source": [
    "phones.describe(include=\"all\")"
   ],
   "metadata": {
    "collapsed": false,
    "ExecuteTime": {
     "end_time": "2024-10-14T08:41:13.002293600Z",
     "start_time": "2024-10-14T08:41:12.912847400Z"
    }
   },
   "id": "2897dd1ad40bd845",
   "execution_count": 16
  },
  {
   "cell_type": "code",
   "outputs": [
    {
     "data": {
      "text/plain": "['model',\n 'price(₽)',\n 'old_price(₽)',\n 'rating',\n 'rating_count',\n 'company',\n 'color',\n 'release_date',\n 'country',\n 'weight(g)',\n 'diagonal(inches)',\n 'display',\n 'refresh_rate(Hz)',\n 'memory(Gb)',\n 'ram(Gb)',\n 'battery(mAh)',\n 'processor',\n 'front_camera(Mpix)',\n 'main_camera']"
     },
     "execution_count": 17,
     "metadata": {},
     "output_type": "execute_result"
    }
   ],
   "source": [
    "phones.columns.tolist()"
   ],
   "metadata": {
    "collapsed": false,
    "ExecuteTime": {
     "end_time": "2024-10-14T08:41:13.390976Z",
     "start_time": "2024-10-14T08:41:13.375519500Z"
    }
   },
   "id": "5644d94ecf801ba1",
   "execution_count": 17
  },
  {
   "cell_type": "code",
   "outputs": [
    {
     "data": {
      "text/plain": "model                   0\nprice(₽)                2\nold_price(₽)          179\nrating                165\nrating_count          165\ncompany                 0\ncolor                   9\nrelease_date           38\ncountry                64\nweight(g)               9\ndiagonal(inches)        0\ndisplay                 0\nrefresh_rate(Hz)      216\nmemory(Gb)              0\nram(Gb)                 0\nbattery(mAh)            0\nprocessor               0\nfront_camera(Mpix)      0\nmain_camera             0\ndtype: int64"
     },
     "execution_count": 18,
     "metadata": {},
     "output_type": "execute_result"
    }
   ],
   "source": [
    "phones.isnull().sum()"
   ],
   "metadata": {
    "collapsed": false,
    "ExecuteTime": {
     "end_time": "2024-10-14T08:41:13.564551600Z",
     "start_time": "2024-10-14T08:41:13.529619400Z"
    }
   },
   "id": "1a1d9c26ca0b8bbc",
   "execution_count": 18
  },
  {
   "cell_type": "markdown",
   "source": [
    "# Filling missing values"
   ],
   "metadata": {
    "collapsed": false
   },
   "id": "504685e3c45bff93"
  },
  {
   "cell_type": "markdown",
   "source": [
    "### Price"
   ],
   "metadata": {
    "collapsed": false
   },
   "id": "b1dc4ebccaf9dcba"
  },
  {
   "cell_type": "code",
   "outputs": [
    {
     "name": "stdout",
     "output_type": "stream",
     "text": [
      "                                                 model  price(₽)  \\\n",
      "126  Смартфон Samsung Galaxy S23 Ultra 512GB Светло...       NaN   \n",
      "370  Смартфон Samsung Galaxy S23 Ultra 1TB Зеленый EAC       NaN   \n",
      "\n",
      "     old_price(₽)  rating  rating_count  company    color release_date  \\\n",
      "126           NaN     NaN           NaN  Samsung  Розовый      2023-02   \n",
      "370           NaN     NaN           NaN  Samsung  Зеленый      2023-02   \n",
      "\n",
      "     country  weight(g)  diagonal(inches)            display  \\\n",
      "126  Вьетнам      234.0               6.8  Dynamic AMOLED 2X   \n",
      "370  Вьетнам      234.0               6.8  Dynamic AMOLED 2X   \n",
      "\n",
      "     refresh_rate(Hz)  memory(Gb)  ram(Gb)  battery(mAh)  \\\n",
      "126               NaN         512       12          5000   \n",
      "370               NaN           1       12          5000   \n",
      "\n",
      "                                          processor  front_camera(Mpix)  \\\n",
      "126  8-ядерный Qualcomm Snapdragon 8 Gen 2 2.80 ГГц                  12   \n",
      "370  8-ядерный Qualcomm Snapdragon 8 Gen 2 2.80 ГГц                  12   \n",
      "\n",
      "                                 main_camera  \n",
      "126  Четыре модуля (200 + 12 + 10 + 10 Mpix)  \n",
      "370  Четыре модуля (200 + 12 + 10 + 10 Mpix)  \n"
     ]
    }
   ],
   "source": [
    "print(phones[phones['price(₽)'].isna()])"
   ],
   "metadata": {
    "collapsed": false,
    "ExecuteTime": {
     "end_time": "2024-10-14T08:41:14.525147200Z",
     "start_time": "2024-10-14T08:41:14.496644300Z"
    }
   },
   "id": "bd28acb062e206de",
   "execution_count": 19
  },
  {
   "cell_type": "markdown",
   "source": [
    "Цены нет у двух моделей Смартфон Samsung Galaxy S23 Ultra 512GB(1ТВ), так как их нет в наличии, поэтому я поставил цену как у аналогичных моделей других цветов."
   ],
   "metadata": {
    "collapsed": false
   },
   "id": "27bd5b6965f7a29b"
  },
  {
   "cell_type": "code",
   "outputs": [],
   "source": [
    "phones.at[126, 'price(₽)'] = 109999\n",
    "phones.at[370, 'price(₽)'] = 137999"
   ],
   "metadata": {
    "collapsed": false,
    "ExecuteTime": {
     "end_time": "2024-10-14T08:41:15.229077900Z",
     "start_time": "2024-10-14T08:41:15.205946Z"
    }
   },
   "id": "ebf8f47609366d74",
   "execution_count": 20
  },
  {
   "cell_type": "markdown",
   "source": [
    "### other columns"
   ],
   "metadata": {
    "collapsed": false
   },
   "id": "f6dff39d5d9aa948"
  },
  {
   "cell_type": "code",
   "outputs": [],
   "source": [
    "phones['rating'].fillna(0, inplace=True)\n",
    "phones['rating_count'].fillna(0, inplace=True)\n",
    "phones['old_price(₽)'].fillna(phones['price(₽)'], inplace=True)\n",
    "phones['memory(Gb)'].replace(1, 1024, inplace=True)\n",
    "phones['refresh_rate(Hz)'].fillna(60, inplace=True)\n",
    "phones['weight(g)'].fillna(phones['weight(g)'].mean(), inplace=True)\n",
    "phones['color'].fillna(phones['color'].mode()[0], inplace=True)\n",
    "phones['release_date'] = phones.groupby('company')['release_date'].transform(lambda x: x.fillna(x.mode()[0]))\n",
    "phones['sale(₽)'] = phones['old_price(₽)'] - phones['price(₽)']\n",
    "phones.drop(columns='old_price(₽)', inplace=True)\n",
    "\n",
    "cols = list(phones.columns)\n",
    "cols.insert(2, cols.pop(cols.index('sale(₽)')))\n",
    "phones = phones[cols]"
   ],
   "metadata": {
    "collapsed": false,
    "ExecuteTime": {
     "end_time": "2024-10-14T08:41:16.000766200Z",
     "start_time": "2024-10-14T08:41:15.954417200Z"
    }
   },
   "id": "4ef690c4ff801357",
   "execution_count": 21
  },
  {
   "cell_type": "markdown",
   "source": [
    "### Country"
   ],
   "metadata": {
    "collapsed": false
   },
   "id": "5bd55fcc5cf962b6"
  },
  {
   "cell_type": "code",
   "outputs": [
    {
     "name": "stdout",
     "output_type": "stream",
     "text": [
      "['Samsung', 'Samsung', 'Samsung', 'Samsung', 'Samsung', 'Samsung', 'Samsung', 'Samsung', 'Samsung', 'Samsung', 'Samsung', 'Samsung', 'Samsung', 'Samsung', 'Samsung', 'Samsung', 'Samsung', 'Samsung', 'Samsung', 'Samsung', 'Samsung', 'Samsung', 'Samsung', 'Samsung', 'Samsung', 'Samsung', 'Samsung', 'Samsung', 'Samsung', 'Samsung', 'Samsung', 'Samsung', 'Samsung', 'Samsung', 'Samsung', 'Samsung', 'Samsung', 'Samsung', 'Samsung', 'Samsung', 'Samsung', 'Samsung', 'Samsung', 'Samsung', 'Samsung', 'Samsung', 'Samsung', 'Samsung', 'Samsung', 'Samsung', 'Samsung', 'Samsung', 'Samsung', 'Samsung', 'Samsung', 'Samsung', 'Samsung', 'Samsung', 'Samsung', 'Samsung', 'Samsung', 'Samsung', 'Samsung', 'Samsung']\n"
     ]
    }
   ],
   "source": [
    "print(phones[phones['country'].isna()]['company'].tolist())"
   ],
   "metadata": {
    "collapsed": false,
    "ExecuteTime": {
     "end_time": "2024-10-14T08:41:17.073269300Z",
     "start_time": "2024-10-14T08:41:17.047519800Z"
    }
   },
   "id": "5336e8f31cbfcee8",
   "execution_count": 22
  },
  {
   "cell_type": "markdown",
   "source": [
    "Страна не написана только у телефонов Samsung. Известно что они производятся в Южной Корее."
   ],
   "metadata": {
    "collapsed": false
   },
   "id": "8d2967d150e88c51"
  },
  {
   "cell_type": "code",
   "outputs": [],
   "source": [
    "phones['country'].fillna('South Korea', inplace = True)"
   ],
   "metadata": {
    "collapsed": false,
    "ExecuteTime": {
     "end_time": "2024-10-14T08:41:18.150690800Z",
     "start_time": "2024-10-14T08:41:18.126077300Z"
    }
   },
   "id": "75d5ca7fd7c371f6",
   "execution_count": 23
  },
  {
   "cell_type": "code",
   "outputs": [
    {
     "name": "stdout",
     "output_type": "stream",
     "text": [
      "Empty DataFrame\n",
      "Columns: [model, price(₽), sale(₽), rating, rating_count, company, color, release_date, country, weight(g), diagonal(inches), display, refresh_rate(Hz), memory(Gb), ram(Gb), battery(mAh), processor, front_camera(Mpix), main_camera]\n",
      "Index: []\n"
     ]
    }
   ],
   "source": [
    "print(phones[phones['refresh_rate(Hz)'].isna()])"
   ],
   "metadata": {
    "collapsed": false,
    "ExecuteTime": {
     "end_time": "2024-10-14T08:41:18.626617700Z",
     "start_time": "2024-10-14T08:41:18.608947100Z"
    }
   },
   "id": "4cd4bc7d60172749",
   "execution_count": 24
  },
  {
   "cell_type": "markdown",
   "source": [
    "### One-hot encoding, normalising,  and writing to csv file"
   ],
   "metadata": {
    "collapsed": false
   },
   "id": "fc70a11e940a70b"
  },
  {
   "cell_type": "code",
   "outputs": [],
   "source": [
    "NUMERIC_COLUMNS = ['price(₽)', 'sale(₽)', 'rating', 'rating_count', 'weight(g)', 'diagonal(inches)',\n",
    "                      'refresh_rate(Hz)', 'memory(Gb)', 'ram(Gb)', 'battery(mAh)', 'front_camera(Mpix)']\n",
    "min_max_scaler = MinMaxScaler()\n",
    "phones_encoded = pd.get_dummies(phones, columns=['color', 'country', 'display', 'processor'], drop_first=True)\n",
    "phones_encoded[NUMERIC_COLUMNS] = min_max_scaler.fit_transform(phones_encoded[NUMERIC_COLUMNS])\n",
    "phones_encoded.to_csv('datasets/full_mobiles_dataset.csv', index=True)"
   ],
   "metadata": {
    "collapsed": false,
    "ExecuteTime": {
     "end_time": "2024-10-14T08:41:19.490155600Z",
     "start_time": "2024-10-14T08:41:19.387797300Z"
    }
   },
   "id": "77f86257abfe2e00",
   "execution_count": 25
  }
 ],
 "metadata": {
  "kernelspec": {
   "display_name": "Python 3",
   "language": "python",
   "name": "python3"
  },
  "language_info": {
   "codemirror_mode": {
    "name": "ipython",
    "version": 2
   },
   "file_extension": ".py",
   "mimetype": "text/x-python",
   "name": "python",
   "nbconvert_exporter": "python",
   "pygments_lexer": "ipython2",
   "version": "2.7.6"
  }
 },
 "nbformat": 4,
 "nbformat_minor": 5
}
