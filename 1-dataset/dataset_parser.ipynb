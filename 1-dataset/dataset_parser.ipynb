{
 "cells": [
  {
   "cell_type": "markdown",
   "source": [
    "### Imports"
   ],
   "metadata": {
    "collapsed": false
   },
   "id": "1911434ba8eec062"
  },
  {
   "cell_type": "code",
   "outputs": [],
   "source": [
    "import csv\n",
    "import re\n",
    "import os\n",
    "\n",
    "import pandas as pd\n",
    "from bs4 import BeautifulSoup\n",
    "from request_service import *"
   ],
   "metadata": {
    "collapsed": false,
    "ExecuteTime": {
     "end_time": "2024-10-07T20:04:03.851168Z",
     "start_time": "2024-10-07T20:04:02.257073100Z"
    }
   },
   "id": "8889f6839295dbdf",
   "execution_count": 1
  },
  {
   "cell_type": "markdown",
   "source": [
    "**Making http request on given url is brought to the separate class.**"
   ],
   "metadata": {
    "collapsed": false
   },
   "id": "747fbfbcea208062"
  },
  {
   "cell_type": "markdown",
   "source": [
    "**Collecting advertisements urls from site pages.**"
   ],
   "metadata": {
    "collapsed": false
   },
   "id": "94961736a7a25649"
  },
  {
   "cell_type": "code",
   "outputs": [],
   "source": [
    "DATASET_PACKAGE = 'datasets'\n",
    "IMAGE_PACKAGE = f'{DATASET_PACKAGE}/images'\n",
    "DESCRIPTION_PACKAGE = f'{DATASET_PACKAGE}/descriptions'\n",
    "\n",
    "AD_FILE = f'{DATASET_PACKAGE}/mobiles_ads_urls.txt'\n",
    "TSV_FILE = f'{DATASET_PACKAGE}/full_mobiles_dataset.tsv'\n",
    "ARFF_FILE = f'{DATASET_PACKAGE}/full_mobiles_dataset.arff'\n",
    "\n",
    "file_index_descr = 461\n",
    "file_index_image = 461\n",
    "\n",
    "\n",
    "def replacing_whitespaces_by_(model):\n",
    "    return re.sub(r'[\\s+]', '_', model).replace('/', '-')\n",
    "\n",
    "\n",
    "def write_description_to_file(description, model):\n",
    "    global file_index_descr\n",
    "    file_index_descr += 1\n",
    "    file_name = f'{DESCRIPTION_PACKAGE}/{file_index_descr}_{replacing_whitespaces_by_(model)}.txt'\n",
    "    with open(file_name, 'w', encoding='utf-8') as file:\n",
    "        file.write(description)\n",
    "        print(f\"Wrote description to file for {model}\\n\")\n",
    "    return file_name\n",
    "\n",
    "\n",
    "def download_image(url, model):\n",
    "    global file_index_image\n",
    "    file_index_image += 1\n",
    "    file_name = f'{IMAGE_PACKAGE}/{file_index_image}_{replacing_whitespaces_by_(model)}.png'\n",
    "    response = make_plain_request(url)\n",
    "    with open(file_name, 'wb') as file:\n",
    "        file.write(response.content if response else \"\")\n",
    "        print(f\"Downloaded image for {model}\\n\")\n",
    "\n",
    "\n",
    "def get_all_advertisements_urls(url):\n",
    "    src = make_request(url)\n",
    "    if not src:\n",
    "        return []\n",
    "\n",
    "    soup = BeautifulSoup(src, 'lxml')\n",
    "    ads = soup.findAll('a', class_='b-good__title-link')\n",
    "    return [BASE_URL + ad['href'] for ad in ads]\n",
    "\n",
    "\n",
    "def save_ads_to_file(ads, filename):\n",
    "    with open(filename, 'a', encoding='utf-8') as f:\n",
    "        for ad in ads:\n",
    "            f.write(ad + '\\n')\n",
    "\n",
    "\n",
    "def load_existing_ads(filename):\n",
    "    if not os.path.exists(filename):\n",
    "        return []\n",
    "\n",
    "    with open(filename, 'r', encoding='utf-8') as f:\n",
    "        return [line.strip() for line in f.readlines()]\n",
    "\n",
    "\n",
    "def collect_advertisements_from_pages(start, end, save_file=AD_FILE):\n",
    "    ads = set(load_existing_ads(save_file))\n",
    "    new_ads = set()\n",
    "\n",
    "    for i in range(start, end + 1):\n",
    "        cur_url = f\"{BASE_URL}{CATEGORY_URL}?page={i}&{OPTIONS}\"\n",
    "        print(f\"Fetching page {i}\\n\")\n",
    "        page_ads = get_all_advertisements_urls(cur_url)\n",
    "        if page_ads:\n",
    "            unique_ads = set(page_ads) - ads\n",
    "            ads.update(unique_ads)\n",
    "            new_ads.update(unique_ads)\n",
    "            save_ads_to_file(list(new_ads), save_file)\n",
    "\n",
    "    print(*ads, sep=\"\\n\")\n",
    "    return list(ads)"
   ],
   "metadata": {
    "collapsed": false,
    "ExecuteTime": {
     "end_time": "2024-10-07T20:04:03.876364800Z",
     "start_time": "2024-10-07T20:04:03.861395400Z"
    }
   },
   "id": "27372c5a7887a942",
   "execution_count": 2
  },
  {
   "cell_type": "code",
   "outputs": [],
   "source": [
    "# ads_list = collect_advertisements_from_pages(1, 21)\n",
    "# print(f\"Downloaded {len(ads_list)} ads\\n\")\n",
    "# cur_url = \"https://spb.shop.megafon.ru/mobile?si_sbmt=1&si_actions=&si_av=1&si_archVal=0&si_courier=1&si_salon=1&si_specs_2=22211&si_specs_8924=QTYwcw_e_e,QTcw,UzIz\"\n",
    "# \n",
    "# page_ads = get_all_advertisements_urls(cur_url)\n",
    "# if page_ads:\n",
    "#     save_ads_to_file(page_ads, AD_FILE)"
   ],
   "metadata": {
    "collapsed": false,
    "ExecuteTime": {
     "end_time": "2024-10-07T20:04:03.903918900Z",
     "start_time": "2024-10-07T20:04:03.868761100Z"
    }
   },
   "id": "31330152e73c1d85",
   "execution_count": 3
  },
  {
   "cell_type": "markdown",
   "source": [
    "Deleting similar rows from the given file(avoiding parsing one link several times)."
   ],
   "metadata": {
    "collapsed": false
   },
   "id": "fc4a81170d6eb170"
  },
  {
   "cell_type": "code",
   "outputs": [],
   "source": [
    "def delete_similarities(file_name=AD_FILE):\n",
    "    with open(file_name, 'r', encoding='utf-8') as f:\n",
    "        ads = set([line.strip() for line in f.readlines()])\n",
    "    print(f\"unique ads: {len(ads)}\\n\")\n",
    "    with open(file_name, 'w', encoding='utf-8') as f:\n",
    "        for ad in ads:\n",
    "            f.write(ad + '\\n')\n",
    "    return list(ads)\n",
    "\n",
    "\n",
    "def get_ads_from_file(file_name=AD_FILE):\n",
    "    with open(file_name, 'r', encoding='utf-8') as f:\n",
    "        ads = [line.strip() for line in f.readlines()]\n",
    "    return ads"
   ],
   "metadata": {
    "collapsed": false,
    "ExecuteTime": {
     "end_time": "2024-10-07T20:04:03.903918900Z",
     "start_time": "2024-10-07T20:04:03.886537900Z"
    }
   },
   "id": "b2dc6f35885b311a",
   "execution_count": 4
  },
  {
   "cell_type": "code",
   "outputs": [],
   "source": [
    "# mobiles = delete_similarities('datasets/full_mobiles_dataset_copy.tsv')\n",
    "# with open('datasets/full_mobiles_dataset_copy.tsv', 'w', encoding='utf-8') as f:\n",
    "#     for mobile in mobiles:\n",
    "#         f.write(f\"{mobile}\\n\")\n",
    "# print(len(mobiles))"
   ],
   "metadata": {
    "collapsed": false,
    "ExecuteTime": {
     "end_time": "2024-10-07T20:04:03.930822700Z",
     "start_time": "2024-10-07T20:04:03.900614400Z"
    }
   },
   "id": "d3735691f245a86a",
   "execution_count": 5
  },
  {
   "cell_type": "markdown",
   "source": [
    "### Parsing advertisement"
   ],
   "metadata": {
    "collapsed": false
   },
   "id": "dcb49eaa5f47082f"
  },
  {
   "cell_type": "code",
   "outputs": [],
   "source": [
    "NUMERIC_CATEGORIES = ['price(₽)', 'old_price(₽)', 'rating', 'rating_count', 'weight(g)', 'diagonal(inches)',\n",
    "                      'refresh_rate(Hz)',\n",
    "                      'memory(Gb)',\n",
    "                      'ram(Gb)', 'battery(mAh)', 'front_camera(Mpix)']\n",
    "CATEGORIES = (['model'] +\n",
    "              NUMERIC_CATEGORIES +\n",
    "              ['company', 'color', 'release_date', 'country', 'display', 'processor',\n",
    "               'main_camera'])\n",
    "\n",
    "\n",
    "class MobileAd:\n",
    "    PARAMS_MAP = {\n",
    "        'Производитель': 'company',\n",
    "        'Начало продаж': 'year',\n",
    "        'Страна происхождения': 'country',\n",
    "        'Цвет': 'color',\n",
    "        'Вес': 'weight',\n",
    "        'Диагональ дисплея': 'diagonal',\n",
    "        'Тип дисплея': 'display_type',\n",
    "        'Частота обновления экрана': 'refresh_rate',\n",
    "        'Объем встроенной памяти': 'memory',\n",
    "        'Объем оперативной памяти (RAM)': 'ram',\n",
    "        'Емкость аккумулятора': 'battery',\n",
    "        'Процессор': 'processor_frequency',\n",
    "        'Фронтальная камера': 'front_camera',\n",
    "        'Основная камера': 'main_camera'\n",
    "    }\n",
    "\n",
    "    def __init__(self, model, price, old_price, rating, rating_count, company, color, year, country, weight, diagonal,\n",
    "                 display_type,\n",
    "                 refresh_rate, memory, ram, battery,\n",
    "                 processor_frequency, front_camera, main_camera):\n",
    "        self.model = model\n",
    "        self.price = price\n",
    "        self.old_price = old_price\n",
    "        self.rating = rating\n",
    "        self.rating_count = rating_count\n",
    "        self.company = company\n",
    "        self.color = color\n",
    "        self.year = year\n",
    "        self.country = country\n",
    "        self.weight = weight\n",
    "        self.diagonal = diagonal\n",
    "        self.display_type = display_type\n",
    "        self.refresh_rate = refresh_rate\n",
    "        self.memory = memory\n",
    "        self.ram = ram\n",
    "        self.battery = battery\n",
    "        self.processor_frequency = processor_frequency\n",
    "        self.front_camera = front_camera\n",
    "        self.main_camera = main_camera\n",
    "\n",
    "    def to_tsv(self):\n",
    "        return [\n",
    "            self.model,\n",
    "            self.price,\n",
    "            self.old_price,\n",
    "            self.rating,\n",
    "            self.rating_count,\n",
    "            self.company,\n",
    "            self.color,\n",
    "            self.year,\n",
    "            self.country,\n",
    "            self.weight,\n",
    "            self.diagonal,\n",
    "            self.display_type,\n",
    "            self.refresh_rate,\n",
    "            self.memory,\n",
    "            self.ram,\n",
    "            self.battery,\n",
    "            self.processor_frequency,\n",
    "            self.front_camera,\n",
    "            self.main_camera\n",
    "        ]\n",
    "\n",
    "    def to_str(self):\n",
    "        return f\"Название: {self.model}, цена: {self.price}, старая цена: {self.old_price}, оценка: {self.rating}\\n\" + '\\n'.join(\n",
    "            f\"{name}:{getattr(self, attr)}\" for name, attr in self.PARAMS_MAP.items())\n",
    "\n",
    "    @classmethod\n",
    "    def from_soup(cls, soup):\n",
    "        title = soup.find('h1').get_text()\n",
    "\n",
    "        company_match = re.search(r\"Смартфон\\s+([\\w]+)\", title)\n",
    "        company = company_match.group(1) if company_match else None\n",
    "\n",
    "        color_tag = soup.find('span', class_='b-options__color-item variantColor b-options__color-item_state_selected')\n",
    "        color = color_tag.get('title').split('Цвет:')[-1].strip() if color_tag else None\n",
    "\n",
    "        rating_tag = soup.find('span', class_='b-comments__rating-value')\n",
    "        rating = rating_tag.get_text(strip=True) if rating_tag else None\n",
    "\n",
    "        rating_count_tag = soup.find('meta', itemprop='ratingCount')\n",
    "        rating_count = rating_count_tag.get('content') if rating_count_tag else None\n",
    "\n",
    "        price_tag = soup.find('span', class_='b-price-cards__value b-price__value')\n",
    "        price = price_tag.get_text(strip=True) if price_tag else None\n",
    "\n",
    "        old_price_tag = soup.find('span', class_='b-price-cards__old-price-value b-price__old-price-value')\n",
    "        old_price = old_price_tag.get_text(strip=True) if old_price_tag else None\n",
    "\n",
    "        description_tag = soup.find(class_='b-good-description__full nosmall')\n",
    "        description = description_tag.get_text() if description_tag else \"\"\n",
    "        write_description_to_file(description, title)\n",
    "\n",
    "        meta_tag = soup.find('meta', {'itemprop': 'image'})\n",
    "        image_url = meta_tag['content'] if meta_tag and 'content' in meta_tag.attrs else \"\"\n",
    "        download_image(image_url, title)\n",
    "\n",
    "        params = {}\n",
    "        specs_heads = soup.find_all('div', class_='b-good-specs__head')\n",
    "        specs_contents = soup.find_all('div', class_='b-good-specs__content')\n",
    "\n",
    "        for head, content in zip(specs_heads, specs_contents):\n",
    "            param_name_tag = head.find('div', class_='name g_tool_tip_container')\n",
    "\n",
    "            if param_name_tag:\n",
    "                param_name_tag.find('span').decompose()\n",
    "                spec_descr_tag = param_name_tag.find('div', class_='spec_descr ttc-message')\n",
    "                if spec_descr_tag:\n",
    "                    spec_descr_tag.decompose()\n",
    "                param_name = param_name_tag.get_text(strip=True)\n",
    "            else:\n",
    "                param_name = head.get_text(strip=True)\n",
    "                if param_name.endswith(':'):\n",
    "                    param_name = param_name[:-1]\n",
    "\n",
    "            param_value = content.get_text(strip=True)\n",
    "            if param_name in cls.PARAMS_MAP:\n",
    "                params[cls.PARAMS_MAP[param_name]] = param_value\n",
    "\n",
    "        return cls(\n",
    "            model=title,\n",
    "            price=price,\n",
    "            old_price=old_price,\n",
    "            rating=rating,\n",
    "            rating_count=rating_count,\n",
    "            company=company,\n",
    "            color=color,\n",
    "            year=params.get('year', None),\n",
    "            country=params.get('country', None),\n",
    "            weight=params.get('weight', None),\n",
    "            diagonal=params.get('diagonal', None),\n",
    "            display_type=params.get('display_type', None),\n",
    "            refresh_rate=params.get('refresh_rate', None),\n",
    "            memory=params.get('memory', None),\n",
    "            ram=params.get('ram', None),\n",
    "            battery=params.get('battery', None),\n",
    "            processor_frequency=params.get('processor_frequency', None),\n",
    "            front_camera=params.get('front_camera', None),\n",
    "            main_camera=params.get('main_camera', None)\n",
    "        )"
   ],
   "metadata": {
    "collapsed": false,
    "ExecuteTime": {
     "end_time": "2024-10-14T08:39:18.174156Z",
     "start_time": "2024-10-14T08:39:18.162937800Z"
    }
   },
   "id": "f97d1f902c1733e9",
   "execution_count": 1
  },
  {
   "cell_type": "code",
   "outputs": [],
   "source": [
    "def parse_advertisement(ad_url):\n",
    "    src = make_request(ad_url)\n",
    "    soup = BeautifulSoup(src, 'lxml')\n",
    "    print(f\"Parsed {ad_url}\\n\")\n",
    "    return MobileAd.from_soup(soup)\n",
    "\n",
    "\n",
    "def parse_first_ad(ads_list, tsv_file_name=TSV_FILE):\n",
    "    with open(tsv_file_name, 'a', encoding='utf-8') as tsv_file:\n",
    "        writer = csv.writer(tsv_file, delimiter='\\t')\n",
    "        # writer.writerow(MobileAd.PARAMS_MAP.keys())\n",
    "        info = parse_advertisement(ads_list[100]).to_tsv()\n",
    "        if info:\n",
    "            writer.writerow(info)\n",
    "\n",
    "\n",
    "def parse_ads_to_tsv(ads_list, tsv_file_name=TSV_FILE):\n",
    "    with open(tsv_file_name, 'a', encoding='utf-8') as tsv_file:\n",
    "        writer = csv.writer(tsv_file, delimiter='\\t')\n",
    "        # writer.writerow(AutoAd.PARAMS_MAP.keys())\n",
    "        cnt = 461\n",
    "        for ad_url in ads_list[cnt:]:\n",
    "            info = parse_advertisement(ad_url).to_tsv()\n",
    "            if info:\n",
    "                writer.writerow(info)\n",
    "                # ads_list.remove(ad_url)\n",
    "                print(f\"{cnt + 1}|{ad_url} wrote to file\\n\")\n",
    "                cnt += 1"
   ],
   "metadata": {
    "collapsed": false,
    "ExecuteTime": {
     "end_time": "2024-10-07T20:04:03.959110400Z",
     "start_time": "2024-10-07T20:04:03.953447100Z"
    }
   },
   "id": "54424d16ee4bd411",
   "execution_count": 7
  },
  {
   "cell_type": "code",
   "outputs": [],
   "source": [
    "# parse_ads_to_tsv(ads_list, TSV_FILE)"
   ],
   "metadata": {
    "collapsed": false,
    "ExecuteTime": {
     "end_time": "2024-10-07T20:04:03.978525800Z",
     "start_time": "2024-10-07T20:04:03.960283500Z"
    }
   },
   "id": "a4d97ffc123f1f59",
   "execution_count": 8
  },
  {
   "cell_type": "markdown",
   "source": [
    "**Cleaning data, writing to arff**"
   ],
   "metadata": {
    "collapsed": false
   },
   "id": "4ffed6aa978f6f69"
  },
  {
   "cell_type": "code",
   "outputs": [],
   "source": [
    "clean_tsv_file_name = f'{DATASET_PACKAGE}/clean_full_mobiles_dataset.tsv'\n",
    "\n",
    "months = {\n",
    "    'Январь': '01', 'Февраль': '02', 'Март': '03', 'Апрель': '04',\n",
    "    'Май': '05', 'Июнь': '06', 'Июль': '07', 'Август': '08',\n",
    "    'Сентябрь': '09', 'Октябрь': '10', 'Ноябрь': '11', 'Декабрь': '12'\n",
    "}\n",
    "\n",
    "\n",
    "def clean_numeric_in_tsv_file(input_file=TSV_FILE, output_file=clean_tsv_file_name):\n",
    "    def clean_numeric(value):\n",
    "        if isinstance(value, str):\n",
    "            return re.sub(r\"[^\\d.]\", '', value)\n",
    "        elif isinstance(value, float):\n",
    "            try:\n",
    "                if value == int(value):\n",
    "                    return str(int(value))\n",
    "            except ValueError:\n",
    "                return value\n",
    "        return value\n",
    "\n",
    "    def unify_date(date):\n",
    "        if date:\n",
    "            try:\n",
    "                month, year, _ = date.split()\n",
    "                if month in months:\n",
    "                    month_num = months.get(month)\n",
    "                    return f\"{year}-{month_num}\"\n",
    "                else:\n",
    "                    print(month)\n",
    "                    return date\n",
    "            except Exception as e:\n",
    "                print(f\"Error processing date '{date}': {e}\")\n",
    "                return \"\"\n",
    "\n",
    "    df = pd.read_csv(input_file, sep='\\t')\n",
    "    for category in NUMERIC_CATEGORIES:\n",
    "        df[category] = df[category].apply(clean_numeric)\n",
    "    df['release_date'] = df['release_date'].apply(unify_date)\n",
    "    df.to_csv(output_file, sep='\\t', index=False)\n"
   ],
   "metadata": {
    "collapsed": false,
    "ExecuteTime": {
     "end_time": "2024-10-07T20:04:03.990490600Z",
     "start_time": "2024-10-07T20:04:03.982770900Z"
    }
   },
   "id": "dd96089e4cc0cfb2",
   "execution_count": 9
  },
  {
   "cell_type": "code",
   "outputs": [],
   "source": [
    "def collect_dept_attributes_from_tsv(tsv_file_name=TSV_FILE):\n",
    "    companies = set()\n",
    "    colors = set()\n",
    "    processors = set()\n",
    "    displays = set()\n",
    "    countries = set()\n",
    "    with open(tsv_file_name, 'r', encoding='utf-8') as tsv:\n",
    "        reader = csv.DictReader(tsv, delimiter='\\t')\n",
    "\n",
    "        for row in reader:\n",
    "            company = row.get('company')\n",
    "            if company:\n",
    "                companies.add(company.strip())\n",
    "\n",
    "            color = row.get('color')\n",
    "            if color:\n",
    "                colors.add(color.strip())\n",
    "\n",
    "            processor = row.get('processor')\n",
    "            if processor:\n",
    "                processors.add(processor.strip())\n",
    "\n",
    "            display = row.get('display')\n",
    "            if display:\n",
    "                displays.add(display.strip())\n",
    "\n",
    "            country = row.get('country')\n",
    "            if country:\n",
    "                countries.add(country)\n",
    "    return companies, colors, countries, processors, displays\n",
    "\n",
    "\n",
    "def write_to_arff(tsv_file_name=clean_tsv_file_name, arff_file_name=ARFF_FILE):\n",
    "    companies, colors, countries, processors, displays = collect_dept_attributes_from_tsv(tsv_file_name)\n",
    "    with open(arff_file_name, 'w', encoding='utf-8') as arff:\n",
    "        arff.write(f\"@relation gadgets\\n\\n\")\n",
    "\n",
    "        arff.write(f\"@attribute model string\\n\")\n",
    "        arff.write(f\"@attribute company {{{','.join(companies)}}}\\n\")\n",
    "        arff.write(f\"@attribute country {{{','.join(countries)}}}\\n\")\n",
    "        arff.write(f\"@attribute release_date date yyyy-MM\\n\")\n",
    "        for category in NUMERIC_CATEGORIES:\n",
    "            arff.write(f\"@attribute {category} numeric\\n\")\n",
    "        arff.write(f\"@attribute main_camera string\\n\")\n",
    "        arff.write(f\"@attribute color {{{','.join(colors)}}}\\n\")\n",
    "        arff.write(f\"@attribute display {{{','.join(displays)}}}\\n\")\n",
    "        arff.write(f\"@attribute processor {{{','.join(processors)}}}\\n\")\n",
    "\n",
    "        arff.write(f\"\\n@data\\n\")\n",
    "\n",
    "        with open(tsv_file_name, 'r', encoding='utf-8') as tsv:\n",
    "            reader = csv.DictReader(tsv, delimiter='\\t')\n",
    "            for row in reader:\n",
    "                model = row.get('model', '?')\n",
    "                price = row.get('price(₽)', '?')\n",
    "                manufacturer = row.get('company', '?')\n",
    "                release_date = row.get('release_date', '?')\n",
    "                country = row.get('country', '?')\n",
    "                weight = row.get('weight(g)', '?')\n",
    "                diagonal = row.get('diagonal(inches)', '?')\n",
    "                screen = row.get('display', '?')\n",
    "                refresh_rate = row.get('refresh_rate(Hz)', '?')\n",
    "                memory = row.get('memory(Gb)', '?')\n",
    "                battery = row.get('battery(mAh)', '?')\n",
    "                processor = row.get('processor', '?')\n",
    "                front_camera = row.get('front_camera(Mpix)', '?')\n",
    "                main_camera = row.get('main_camera', '?')\n",
    "\n",
    "                arff.write(f\"{model},{price},{manufacturer},{release_date},{country},{weight},{diagonal},{screen},\"\n",
    "                           f\"{refresh_rate},{memory},{battery},{processor},{front_camera},{main_camera}\\n\")\n",
    "\n",
    "# write_to_arff()"
   ],
   "metadata": {
    "collapsed": false,
    "ExecuteTime": {
     "end_time": "2024-10-07T20:04:04.120605Z",
     "start_time": "2024-10-07T20:04:04.088043100Z"
    }
   },
   "id": "ce92f6b7b2617e03",
   "execution_count": 10
  },
  {
   "cell_type": "code",
   "outputs": [],
   "source": [
    "# write_to_arff('datasets/clean_full_mobiles_dataset.tsv', 'datasets/full_mobiles_dataset.arff')"
   ],
   "metadata": {
    "collapsed": false,
    "ExecuteTime": {
     "end_time": "2024-10-07T20:04:04.290493500Z",
     "start_time": "2024-10-07T20:04:04.270508200Z"
    }
   },
   "id": "eac021234547cc33",
   "execution_count": 11
  }
 ],
 "metadata": {
  "kernelspec": {
   "display_name": "Python 3",
   "language": "python",
   "name": "python3"
  },
  "language_info": {
   "codemirror_mode": {
    "name": "ipython",
    "version": 2
   },
   "file_extension": ".py",
   "mimetype": "text/x-python",
   "name": "python",
   "nbconvert_exporter": "python",
   "pygments_lexer": "ipython2",
   "version": "2.7.6"
  }
 },
 "nbformat": 4,
 "nbformat_minor": 5
}
