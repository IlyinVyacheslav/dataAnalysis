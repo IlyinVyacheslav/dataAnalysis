{
 "cells": [
  {
   "cell_type": "markdown",
   "source": [
    "### Imports"
   ],
   "metadata": {
    "collapsed": false
   },
   "id": "f3af828e0a9c7d38"
  },
  {
   "cell_type": "code",
   "outputs": [],
   "source": [
    "from scipy.spatial.distance import minkowski, cosine\n",
    "import numpy as np\n",
    "from sklearn.neighbors import NearestNeighbors\n",
    "from sklearn.model_selection import train_test_split\n",
    "from sklearn.metrics import accuracy_score\n",
    "from sklearn.base import BaseEstimator, ClassifierMixin\n",
    "import pandas as pd\n",
    "from tqdm import tqdm\n",
    "import itertools\n",
    "import matplotlib.pyplot as plt"
   ],
   "metadata": {
    "collapsed": false,
    "ExecuteTime": {
     "end_time": "2024-10-28T23:29:47.665326700Z",
     "start_time": "2024-10-28T23:29:47.652677Z"
    }
   },
   "id": "7e0c62780db7e4b5",
   "execution_count": 206
  },
  {
   "cell_type": "markdown",
   "source": [
    "#### Distance metrices"
   ],
   "metadata": {
    "collapsed": false
   },
   "id": "ac380e8275278125"
  },
  {
   "cell_type": "code",
   "outputs": [],
   "source": [
    "def distance_metric(metric, x, y, p):\n",
    "    if metric == 'minkowski':\n",
    "        return minkowski(x, y, p)\n",
    "    elif metric == 'cosine':\n",
    "        return cosine(x, y)\n",
    "    elif metric == 'chebyshev':\n",
    "        return np.max(np.abs(x - y))\n",
    "    else:\n",
    "        raise ValueError(f\"Unknown metric: {metric}\")"
   ],
   "metadata": {
    "collapsed": false,
    "ExecuteTime": {
     "end_time": "2024-10-28T23:29:47.683635500Z",
     "start_time": "2024-10-28T23:29:47.667382900Z"
    }
   },
   "id": "356a513079e47443",
   "execution_count": 207
  },
  {
   "cell_type": "markdown",
   "source": [
    "#### Kernel functions"
   ],
   "metadata": {
    "collapsed": false
   },
   "id": "a60e1d6efeed88bb"
  },
  {
   "cell_type": "code",
   "outputs": [],
   "source": [
    "def kernel_fun(kernel, distances, a=2, b=2, fixed_window=True, h=1):\n",
    "    normalized_distances = distances / h if fixed_window else distances / np.sort(distances)[-1]\n",
    "    if kernel == 'uniform':\n",
    "        return np.ones_like(distances)\n",
    "    elif kernel == 'triangular':\n",
    "        return np.maximum(0, 1 - normalized_distances)\n",
    "    elif kernel == 'parabolic':\n",
    "        return np.where(np.abs(normalized_distances) <= 1, 0.75 * (1 - normalized_distances ** 2), 0)\n",
    "    elif kernel == 'general_view':\n",
    "        return np.where(np.abs(normalized_distances) <= 1, (1 - np.abs(normalized_distances) ** a) ** b, 0)\n",
    "    elif kernel == 'gaussian':\n",
    "        return np.exp(-0.5 * normalized_distances ** 2) / np.sqrt(2 * np.pi)\n",
    "    else:\n",
    "        raise ValueError(f\"Unknown kernel function: {kernel}\")"
   ],
   "metadata": {
    "collapsed": false,
    "ExecuteTime": {
     "end_time": "2024-10-28T23:29:47.701372400Z",
     "start_time": "2024-10-28T23:29:47.688020900Z"
    }
   },
   "id": "fd9e6c526e9b979",
   "execution_count": 208
  },
  {
   "cell_type": "markdown",
   "source": [
    "#### KNN algorithm imlementation"
   ],
   "metadata": {
    "collapsed": false
   },
   "id": "749068c4f5f1a8d8"
  },
  {
   "cell_type": "code",
   "outputs": [],
   "source": [
    "class CustomKNN(BaseEstimator, ClassifierMixin):\n",
    "    def __init__(self, *, k=5, a=2, b=2, kernel='triangular', p=2, metric='minkowski', fixed_window=True, h=1):\n",
    "        self.nn = None\n",
    "        self.y_train = None\n",
    "        self.X_train = None\n",
    "        self.X_weights = None\n",
    "        self.k = k\n",
    "        self.a = a\n",
    "        self.b = b\n",
    "        self.kernel = kernel\n",
    "        self.p = p\n",
    "        self.metric = lambda arr_1, arr_2: distance_metric(metric, arr_1, arr_2, p)\n",
    "        self.fixed_window = fixed_window\n",
    "        self.h = h\n",
    "        self.weights = lambda distances: kernel_fun(kernel, distances, a, b, fixed_window, h)\n",
    "\n",
    "    def fit(self, X_train, y_train, X_weights=None):\n",
    "        self.X_train = X_train\n",
    "        self.y_train = np.array(y_train)\n",
    "        self.X_weights = np.ones(len(y_train)) if X_weights is None else np.array(X_weights)\n",
    "        self.nn = NearestNeighbors(n_neighbors=self.k, metric=self.metric)\n",
    "        self.nn.fit(X_train)\n",
    "\n",
    "    def __nearest_neighbor_label(self, x):\n",
    "        nearest_neighbor = self.nn.kneighbors(X=np.array([x]), n_neighbors=1)\n",
    "        nearest_distance, nearest_indic = nearest_neighbor\n",
    "        return self.y_train[nearest_indic][0][0]\n",
    "\n",
    "    def predict(self, X_test):\n",
    "        X_test = np.array(X_test)\n",
    "\n",
    "        if self.fixed_window:\n",
    "            neighbors = self.nn.radius_neighbors(X=X_test, radius=self.h)\n",
    "        else:\n",
    "            neighbors = self.nn.kneighbors(X=X_test, n_neighbors=self.k + 1)\n",
    "        predictions = []\n",
    "        X_i = 0\n",
    "        for distances, indices in zip(*neighbors):\n",
    "            default_label = self.__nearest_neighbor_label(X_test[X_i])\n",
    "            neighbor_labels = self.y_train[indices]\n",
    "\n",
    "            if len(neighbor_labels) == 0:\n",
    "                predictions.append(default_label)\n",
    "                continue\n",
    "\n",
    "            weights = self.weights(distances)\n",
    "            weighted_votes = {}\n",
    "            for i, (label, weight) in enumerate(zip(neighbor_labels, weights)):\n",
    "                total_weight = weight * self.X_weights[indices[i]]\n",
    "                if label in weighted_votes:\n",
    "                    weighted_votes[label] += total_weight\n",
    "                else:\n",
    "                    weighted_votes[label] = total_weight\n",
    "            predictions.append(max(weighted_votes, key=weighted_votes.get))\n",
    "            X_i += 1\n",
    "\n",
    "        return np.array(predictions)"
   ],
   "metadata": {
    "collapsed": false,
    "ExecuteTime": {
     "end_time": "2024-10-28T23:29:47.730062600Z",
     "start_time": "2024-10-28T23:29:47.699373600Z"
    }
   },
   "id": "4343d32a5f31cbe4",
   "execution_count": 209
  },
  {
   "cell_type": "markdown",
   "source": [
    "### Best hyperparams"
   ],
   "metadata": {
    "collapsed": false
   },
   "id": "aad51bfad3d380a7"
  },
  {
   "cell_type": "code",
   "outputs": [],
   "source": [
    "phones = pd.read_csv('dataset.csv')\n",
    "phones.columns.tolist()\n",
    "phones.drop(columns=['model', 'release_date', 'main_camera'], inplace=True)\n",
    "X = phones.drop(columns='company')\n",
    "y = phones['company']\n",
    "X_train, X_test, y_train, y_test = train_test_split(X, y, random_state=42)"
   ],
   "metadata": {
    "collapsed": false,
    "ExecuteTime": {
     "end_time": "2024-10-28T23:29:47.771122700Z",
     "start_time": "2024-10-28T23:29:47.732270100Z"
    }
   },
   "id": "65ac9322779f0676",
   "execution_count": 210
  },
  {
   "cell_type": "code",
   "outputs": [
    {
     "name": "stdout",
     "output_type": "stream",
     "text": [
      "Лучшие параметры: {'k': 1, 'kernel': 'triangular', 'metric': 'cosine', 'p': 1, 'a': 1, 'b': 1, 'fixed_window': False, 'h': 1}\n",
      "Лучшая точность: 0.7177\n"
     ]
    }
   ],
   "source": [
    "param_grid = {\n",
    "    'k': [1, 2, 3, 4, 5, 6, 7, 8, 9, 10, 12, 16, 18, 20, 25],\n",
    "    'kernel': ['triangular', 'uniform', 'gaussian', 'general_view', 'parabolic'],\n",
    "    'metric': ['cosine', 'chebyshev', 'minkowski'],\n",
    "    'p': [1, 2, 3, 4, 5, 10],\n",
    "    'a': [1, 2, 3],\n",
    "    'b': [1, 2, 3],\n",
    "    'fixed_window': [True, False],\n",
    "    'h': [0.5, 1, 2, 5, 10, 15, 25]\n",
    "}\n",
    "\n",
    "\n",
    "def useless_run(params):\n",
    "    if not params['fixed_window'] and params['h'] != 1:\n",
    "        return True\n",
    "    if params['fixed_window'] and params['k'] != 1:\n",
    "        return True\n",
    "    if params['kernel'] != 'general_view' and (params['a'] != 1 or params['b'] != 1):\n",
    "        return True\n",
    "    if params['metric'] != 'minkowski' and params['p'] != 1:\n",
    "        return True\n",
    "    return False\n",
    "\n",
    "\n",
    "def search_best_params():\n",
    "    best_score = 0\n",
    "    best_params = None\n",
    "\n",
    "    keys, values = zip(*param_grid.items())\n",
    "    param_combinations = list(itertools.product(*values))\n",
    "\n",
    "    for combination in tqdm(param_combinations, desc=\"Grid Search Progress\"):\n",
    "        params = dict(zip(keys, combination))\n",
    "\n",
    "        if useless_run(params):\n",
    "            continue\n",
    "\n",
    "        knn = CustomKNN(**params)\n",
    "        knn.fit(X_train, y_train)\n",
    "\n",
    "        y_pred = knn.predict(X_test)\n",
    "\n",
    "        score = accuracy_score(y_test, y_pred)\n",
    "\n",
    "        if score > best_score:\n",
    "            best_score = score\n",
    "            best_params = params\n",
    "    return best_params, best_score\n",
    "\n",
    "\n",
    "# best_params, best_score = search_best_params()\n",
    "best_params = {'k': 1, 'kernel': 'triangular', 'metric': 'cosine', 'p': 1, 'a': 1, 'b': 1, 'fixed_window': False,\n",
    "               'h': 1}\n",
    "best_score = 0.7177\n",
    "\n",
    "print(f\"Лучшие параметры: {best_params}\")\n",
    "print(f\"Лучшая точность: {best_score:.4f}\")"
   ],
   "metadata": {
    "collapsed": false,
    "ExecuteTime": {
     "end_time": "2024-10-28T23:29:47.780201400Z",
     "start_time": "2024-10-28T23:29:47.771122700Z"
    }
   },
   "id": "32a0ea819db40715",
   "execution_count": 211
  },
  {
   "cell_type": "markdown",
   "source": [
    "### Graphics"
   ],
   "metadata": {
    "collapsed": false
   },
   "id": "7793530a3ad37ab8"
  },
  {
   "cell_type": "code",
   "outputs": [],
   "source": [
    "def plot_accuracy_vs_k():\n",
    "    k_values = range(1, 50, 2)\n",
    "    train_scores = []\n",
    "    test_scores = []\n",
    "    for k in k_values:\n",
    "        knn = CustomKNN(k=k, kernel='triangular', metric='cosine', fixed_window=False)\n",
    "        knn.fit(X_train, y_train)\n",
    "        y_train_pred = knn.predict(X_train)\n",
    "        train_acc = accuracy_score(y_train, y_train_pred)\n",
    "        train_scores.append(train_acc)\n",
    "\n",
    "        y_test_pred = knn.predict(X_test)\n",
    "        test_acc = accuracy_score(y_test, y_test_pred)\n",
    "        test_scores.append(test_acc)\n",
    "\n",
    "    plt.figure(figsize=(10, 6))\n",
    "    plt.plot(k_values, train_scores, label=\"Training Accuracy\", marker='o')\n",
    "    plt.plot(k_values, test_scores, label=\"Testing Accuracy\", marker='o')\n",
    "    plt.xlabel(\"Number of Neighbors (k)\")\n",
    "    plt.ylabel(\"Accuracy\")\n",
    "    plt.title(\"Accuracy vs Number of Neighbors (k)\")\n",
    "    plt.legend()\n",
    "    plt.grid(True)\n",
    "    plt.show()"
   ],
   "metadata": {
    "collapsed": false,
    "ExecuteTime": {
     "end_time": "2024-10-28T23:29:47.796812200Z",
     "start_time": "2024-10-28T23:29:47.782554500Z"
    }
   },
   "id": "df60e4e871aa8c7d",
   "execution_count": 212
  },
  {
   "cell_type": "code",
   "outputs": [
    {
     "data": {
      "text/plain": "<Figure size 1000x600 with 1 Axes>",
      "image/png": "[encoded data removed]"
     },
     "metadata": {},
     "output_type": "display_data"
    }
   ],
   "source": [
    "plot_accuracy_vs_k()"
   ],
   "metadata": {
    "collapsed": false,
    "ExecuteTime": {
     "end_time": "2024-10-28T23:35:46.537281400Z",
     "start_time": "2024-10-28T23:29:47.804209600Z"
    }
   },
   "id": "cf0913dfdea2efe3",
   "execution_count": 213
  },
  {
   "cell_type": "markdown",
   "source": [
    "### Anomalies, Lowess algorithm"
   ],
   "metadata": {
    "collapsed": false
   },
   "id": "b78da570b592477c"
  },
  {
   "cell_type": "code",
   "outputs": [],
   "source": [
    "class LOWESSAnomalyDetector:\n",
    "    def __init__(self, *, anomaly_weight=0.6, normal_weight=1, k=5, kernel='triangular', metric='cosine',\n",
    "                 fixed_window=False):\n",
    "        self.y_train = None\n",
    "        self.X_train = None\n",
    "        self.anomaly_weight = anomaly_weight\n",
    "        self.normal_weight = normal_weight\n",
    "        self.k = k\n",
    "        self.kernel = kernel\n",
    "        self.metric = metric\n",
    "        self.fixed_window = fixed_window\n",
    "        self.weights = None\n",
    "\n",
    "    def fit(self, X_train, y_train):\n",
    "        self.X_train = np.array(X_train)\n",
    "        self.y_train = np.array(y_train)\n",
    "        n_samples = X_train.shape[0]\n",
    "        self.weights = np.ones(n_samples)\n",
    "\n",
    "        for x in tqdm(range(n_samples), desc=\"Weighting train objects\"):\n",
    "            mask = np.ones(n_samples, dtype=bool)\n",
    "            mask[x] = False\n",
    "            X_train_subset = self.X_train[mask]\n",
    "            y_train_subset = self.y_train[mask]\n",
    "\n",
    "            knn = CustomKNN(k=self.k, kernel=self.kernel, metric=self.metric, fixed_window=self.fixed_window)\n",
    "            knn.fit(X_train_subset, y_train_subset)\n",
    "            y_pred = knn.predict([self.X_train[x]])[0]\n",
    "            \n",
    "            self.weights[x] = self.normal_weight if y_pred == self.y_train[x] else self.anomaly_weight\n",
    "\n",
    "    def predict(self, X_test):\n",
    "        knn = CustomKNN(k=self.k, kernel=self.kernel, metric=self.metric, fixed_window=self.fixed_window)\n",
    "        knn.fit(self.X_train, self.y_train)\n",
    "        \n",
    "        return knn.predict(X_test)\n",
    "    \n",
    "    def predict_with_weights(self, X_test):\n",
    "        knn = CustomKNN(k=self.k, kernel=self.kernel, metric=self.metric, fixed_window=self.fixed_window)\n",
    "        knn.fit(self.X_train, self.y_train, self.weights)\n",
    "        \n",
    "        return knn.predict(X_test)"
   ],
   "metadata": {
    "collapsed": false,
    "ExecuteTime": {
     "end_time": "2024-10-28T23:35:46.646384200Z",
     "start_time": "2024-10-28T23:35:46.544484500Z"
    }
   },
   "id": "9b0555000eecca11",
   "execution_count": 214
  },
  {
   "cell_type": "code",
   "outputs": [
    {
     "name": "stderr",
     "output_type": "stream",
     "text": [
      "Weighting train objects: 100%|██████████| 371/371 [00:10<00:00, 35.32it/s]\n"
     ]
    },
    {
     "name": "stdout",
     "output_type": "stream",
     "text": [
      "Точность без взвешивания: 0.6452\n",
      "Точность с учетом взвешивания: 0.6532\n"
     ]
    }
   ],
   "source": [
    "detector = LOWESSAnomalyDetector(k=10, anomaly_weight=0.9, normal_weight=1)\n",
    "detector.fit(X_train, y_train)\n",
    "\n",
    "y_pred_unweighted = detector.predict(X_test)\n",
    "score_unweighted = accuracy_score(y_test, y_pred_unweighted)\n",
    "\n",
    "y_pred_weighted = detector.predict_with_weights(X_test)\n",
    "score_weighted = accuracy_score(y_test, y_pred_weighted)\n",
    "\n",
    "print(f\"Точность без взвешивания: {score_unweighted:.4f}\")\n",
    "print(f\"Точность с учетом взвешивания: {score_weighted:.4f}\")"
   ],
   "metadata": {
    "collapsed": false,
    "ExecuteTime": {
     "end_time": "2024-10-28T23:50:26.433595400Z",
     "start_time": "2024-10-28T23:50:08.519041400Z"
    }
   },
   "id": "d1b8f2b3c22374dd",
   "execution_count": 217
  }
 ],
 "metadata": {
  "kernelspec": {
   "display_name": "Python 3",
   "language": "python",
   "name": "python3"
  },
  "language_info": {
   "codemirror_mode": {
    "name": "ipython",
    "version": 2
   },
   "file_extension": ".py",
   "mimetype": "text/x-python",
   "name": "python",
   "nbconvert_exporter": "python",
   "pygments_lexer": "ipython2",
   "version": "2.7.6"
  }
 },
 "nbformat": 4,
 "nbformat_minor": 5
}
